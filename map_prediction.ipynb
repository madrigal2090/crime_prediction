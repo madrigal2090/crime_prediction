{
 "cells": [
  {
   "cell_type": "code",
   "execution_count": 1,
   "id": "ac7745ed",
   "metadata": {},
   "outputs": [],
   "source": [
    "import os\n",
    "\n",
    "import pandas as pd\n",
    "import geopandas as gpd\n",
    "from itertools import product\n",
    "\n",
    "from dateutil.relativedelta import relativedelta\n",
    "\n",
    "from joblib import load\n",
    "import pickle\n",
    "\n",
    "import warnings\n",
    "warnings.filterwarnings('ignore')\n",
    "\n",
    "pd.options.display.max_columns = None\n",
    "pd.set_option('display.max_rows', 1000)\n",
    "pd.options.display.max_rows = 4000"
   ]
  },
  {
   "cell_type": "code",
   "execution_count": 2,
   "id": "0fb92ea6",
   "metadata": {},
   "outputs": [],
   "source": [
    "## Define your path\n",
    "PATH = r\"D:\\francisco_madrigal\\Desktop\\Tesis\"\n",
    "\n",
    "def create_path(file_path, path=PATH):\n",
    "    \n",
    "    return os.path.join(path, file_path)\n"
   ]
  },
  {
   "cell_type": "code",
   "execution_count": 3,
   "id": "f702e6b0",
   "metadata": {},
   "outputs": [],
   "source": [
    "## Create a list og columns that we are going to use first to construct the grid\n",
    "col_list = ['Hora', 'id_colonia', 'month','no_labor_day',\n",
    "            'dia_semana', 'day_period', 'area_km2', 'metro', 'metrobus', 'rtp', 'supers_minisupers',\n",
    "            'department_stores', 'banks', 'corporate_offices', 'restaurants', 'g_edu', 'no_healt_s',\n",
    "            'house_per_km2', 'past_crimes', 'past_near_crimes_500mts', 'TEMP', 'PRCP', 'CO', 'O3', 'PM10']\n",
    "\n",
    "matrix_crimes = pd.read_csv(create_path(r\"modelo\\\\base_crimenes.csv\"),\n",
    "                            usecols=col_list,\n",
    "                            parse_dates=['Hora'])"
   ]
  },
  {
   "cell_type": "code",
   "execution_count": 4,
   "id": "ff4c41f9",
   "metadata": {},
   "outputs": [],
   "source": [
    "## Create a grid with all combinations posibles\n",
    "grid = matrix_crimes[['id_colonia','day_period','month','dia_semana','no_labor_day']]\n",
    "\n",
    "unique_values = [grid[i].unique().tolist() for i in grid.columns ]\n",
    "\n",
    "grid = pd.DataFrame(product(*unique_values), columns = grid.columns)"
   ]
  },
  {
   "cell_type": "code",
   "execution_count": 5,
   "id": "2d00ba3b",
   "metadata": {},
   "outputs": [],
   "source": [
    "## Use the monthly mean of the climate factors\n",
    "gpp = matrix_crimes.groupby('month')[['TEMP', 'PRCP', 'CO', 'O3', 'PM10']].mean().reset_index()\n",
    "\n",
    "grid = grid.merge(gpp, on='month',\n",
    "                  how='left')"
   ]
  },
  {
   "cell_type": "code",
   "execution_count": 6,
   "id": "b9dceb18",
   "metadata": {},
   "outputs": [],
   "source": [
    "## Crate a pair of columns with the mean of past crimes in the last 3 months to use in the grid\n",
    "test_cut = matrix_crimes['Hora'].max() - relativedelta(months=3)\n",
    "\n",
    "train_cut = test_cut - relativedelta(months=3)  \n",
    "\n",
    "pastncr = matrix_crimes.query('Hora >= @train_cut and Hora <= @test_cut')\\\n",
    "    .groupby('id_colonia')['past_near_crimes_500mts'].mean().round().reset_index()\n",
    "\n",
    "pastcr = matrix_crimes.query('Hora >= @train_cut and Hora <= @test_cut')\\\n",
    "    .groupby('id_colonia')['past_crimes'].mean().round().reset_index()\n",
    "\n",
    "pastcr.columns = ['id_colonia', 'past_crimes']\n",
    "pastncr.columns = ['id_colonia', 'past_near_crimes_500mts']\n",
    "\n",
    "grid = grid.merge(pastncr, on='id_colonia',\n",
    "                                    how='left')\n",
    "\n",
    "grid = grid.merge(pastcr, on='id_colonia',\n",
    "                                    how='left')\n",
    "\n",
    "grid['covid_dummy'] = 0"
   ]
  },
  {
   "cell_type": "code",
   "execution_count": 7,
   "id": "2f81c6ee",
   "metadata": {},
   "outputs": [],
   "source": [
    "matrix_crimes =  matrix_crimes[['id_colonia', 'area_km2', 'metro', 'metrobus', 'rtp', 'supers_minisupers', \n",
    "                                'department_stores', 'banks', 'corporate_offices', 'restaurants', 'g_edu', \n",
    "                                'no_healt_s', 'house_per_km2']]\n",
    "\n",
    "matrix_crimes.drop_duplicates(inplace=True)\n",
    "\n",
    "grid = grid.merge(matrix_crimes, on='id_colonia',\n",
    "                  how='left')"
   ]
  },
  {
   "cell_type": "code",
   "execution_count": 8,
   "id": "84ad3250",
   "metadata": {},
   "outputs": [],
   "source": [
    "## Read neighborhoods DataFrame\n",
    "colonias = gpd.read_file(create_path(r\"modelo\\\\colonias_fixed\\\\colonias_fixed.shp\"))\n",
    "\n",
    "## Declare the used coordinate system\n",
    "colonias.crs = \"epsg:4326\"\n",
    "\n",
    "## Print Coordinate Reference System (CRS)\n",
    "# This is importan to homologue all crs from other georeferenced DataFrames\n",
    "colonias.crs\n",
    "\n",
    "## Merge to locate the Municipality for each nieghborhood\n",
    "grid = grid.merge(colonias[['id_colonia', 'alcaldi']],\n",
    "                            how='left',\n",
    "                            on='id_colonia')\n"
   ]
  },
  {
   "cell_type": "code",
   "execution_count": 9,
   "id": "35c6b0c8",
   "metadata": {},
   "outputs": [
    {
     "name": "stdout",
     "output_type": "stream",
     "text": [
      "Memory used: 321.83 Mb\n"
     ]
    }
   ],
   "source": [
    "def memory_usage(df):\n",
    "    return(round(df.memory_usage(deep=True).sum() / 1024 ** 2, 2))\n",
    "\n",
    "print('Memory used:', memory_usage(grid), 'Mb')"
   ]
  },
  {
   "cell_type": "code",
   "execution_count": 10,
   "id": "063b0247",
   "metadata": {},
   "outputs": [
    {
     "name": "stdout",
     "output_type": "stream",
     "text": [
      "<class 'pandas.core.frame.DataFrame'>\n",
      "Int64Index: 1216992 entries, 0 to 1216991\n",
      "Data columns (total 26 columns):\n",
      " #   Column                   Non-Null Count    Dtype  \n",
      "---  ------                   --------------    -----  \n",
      " 0   id_colonia               1216992 non-null  int64  \n",
      " 1   day_period               1216992 non-null  int64  \n",
      " 2   month                    1216992 non-null  int64  \n",
      " 3   dia_semana               1216992 non-null  int64  \n",
      " 4   no_labor_day             1216992 non-null  int64  \n",
      " 5   TEMP                     1216992 non-null  float64\n",
      " 6   PRCP                     1216992 non-null  float64\n",
      " 7   CO                       1216992 non-null  float64\n",
      " 8   O3                       1216992 non-null  float64\n",
      " 9   PM10                     1216992 non-null  float64\n",
      " 10  past_near_crimes_500mts  1216992 non-null  float64\n",
      " 11  past_crimes              1216992 non-null  float64\n",
      " 12  covid_dummy              1216992 non-null  int64  \n",
      " 13  area_km2                 1216992 non-null  float64\n",
      " 14  metro                    1216992 non-null  int64  \n",
      " 15  metrobus                 1216992 non-null  int64  \n",
      " 16  rtp                      1216992 non-null  int64  \n",
      " 17  supers_minisupers        1216992 non-null  float64\n",
      " 18  department_stores        1216992 non-null  float64\n",
      " 19  banks                    1216992 non-null  float64\n",
      " 20  corporate_offices        1216992 non-null  float64\n",
      " 21  restaurants              1216992 non-null  float64\n",
      " 22  g_edu                    1216992 non-null  float64\n",
      " 23  no_healt_s               1216992 non-null  float64\n",
      " 24  house_per_km2            1216992 non-null  float64\n",
      " 25  alcaldi                  1216992 non-null  object \n",
      "dtypes: float64(16), int64(9), object(1)\n",
      "memory usage: 250.7+ MB\n"
     ]
    }
   ],
   "source": [
    "grid.info()"
   ]
  },
  {
   "cell_type": "code",
   "execution_count": 11,
   "id": "8c2abe15",
   "metadata": {},
   "outputs": [
    {
     "name": "stdout",
     "output_type": "stream",
     "text": [
      "Memory used: 12.18 Mb\n",
      "MIGUEL HIDALGO\n",
      "Memory used: 33.5 Mb\n",
      "COYOACAN\n",
      "Memory used: 44.71 Mb\n",
      "VENUSTIANO CARRANZA\n",
      "Memory used: 51.91 Mb\n",
      "LA MAGDALENA CONTRERAS\n",
      "Memory used: 60.77 Mb\n",
      "BENITO JUAREZ\n",
      "Memory used: 92.89 Mb\n",
      "GUSTAVO A. MADERO\n",
      "Memory used: 117.39 Mb\n",
      "TLALPAN\n",
      "Memory used: 132.75 Mb\n",
      "AZCAPOTZALCO\n",
      "Memory used: 143.69 Mb\n",
      "XOCHIMILCO\n",
      "Memory used: 145.21 Mb\n",
      "MILPA ALTA\n",
      "Memory used: 179.82 Mb\n",
      "ALVARO OBREGON\n",
      "Memory used: 187.43 Mb\n",
      "IZTACALCO\n",
      "Memory used: 196.15 Mb\n",
      "CUAUHTEMOC\n",
      "Memory used: 204.18 Mb\n",
      "TLAHUAC\n",
      "Memory used: 244.74 Mb\n",
      "IZTAPALAPA\n",
      "Memory used: 250.69 Mb\n",
      "CUAJIMALPA DE MORELOS\n"
     ]
    }
   ],
   "source": [
    "## Create a empty dataframe to fill with crime probability\n",
    "grid_pred = pd.DataFrame({})\n",
    "\n",
    "for alcaldi in grid['alcaldi'].unique():\n",
    "    \n",
    "    grid_alc = grid[grid['alcaldi'] == alcaldi].copy()\n",
    "    \n",
    "    grid_alc = grid_alc.drop(['alcaldi'], axis = 1)\n",
    "    \n",
    "    ## Create dummies\n",
    "    grid_alc_dum = pd.get_dummies(grid_alc, columns=['id_colonia', 'day_period', 'dia_semana', 'month'],\n",
    "                                   prefix=[\"colonia\", \"day_per\", \"weekday\", \"month\"], sparse=True)\n",
    "    \n",
    "    ## Open de column names of the original dataframe used to grow the model \n",
    "    col_list_name = f\"{(alcaldi).replace('.', '').replace(' ', '_').lower()}_col_names.pkl\"\n",
    "\n",
    "    save_columns = pickle.load(open(create_path(r\"col_names\\\\\" + col_list_name), \"rb\"))\n",
    "\n",
    "    ## Verify column order\n",
    "    grid_alc_dum = grid_alc_dum[save_columns]\n",
    "    \n",
    "    file_name = f\"{(alcaldi).replace('.', '').replace(' ', '_').lower()}_brf_model.joblib\"\n",
    "\n",
    "    brf = load(create_path(r\"brf_models\\\\\" + file_name))\n",
    "    \n",
    "    brf_pred_prob = brf.predict_proba(grid_alc_dum)\n",
    "    \n",
    "    del brf, grid_alc_dum\n",
    "\n",
    "    ## Extract probability of crimes or ones\n",
    "    crime_prob = [prob[1] for prob in brf_pred_prob]\n",
    "    \n",
    "    ## Use original and Undummie DataFrame\n",
    "    grid_alc[\"proba_crimen\"] = crime_prob\n",
    "    \n",
    "    grid_pred = pd.concat([grid_pred, grid_alc])\n",
    "    \n",
    "    del grid_alc, crime_prob\n",
    "    \n",
    "    print('Memory used:', memory_usage(grid_pred), 'Mb')\n",
    "    print(alcaldi)\n",
    "    "
   ]
  },
  {
   "cell_type": "code",
   "execution_count": 12,
   "id": "838ce7c3",
   "metadata": {},
   "outputs": [],
   "source": [
    "## Drop not relevante features to our map of probabilities\n",
    "not_import_features = ['area_km2', 'metro', 'metrobus', 'rtp',\n",
    "                       'supers_minisupers', 'department_stores', 'banks', 'corporate_offices',\n",
    "                       'restaurants', 'g_edu', 'no_healt_s', 'house_per_km2',\n",
    "                       'TEMP', 'PRCP', 'CO', 'O3', 'PM10', 'past_near_crimes_500mts',\n",
    "                       'past_crimes', 'covid_dummy']\n",
    "\n",
    "\n",
    "grid_pred.drop(columns=not_import_features, axis=1, inplace=True)\n"
   ]
  },
  {
   "cell_type": "code",
   "execution_count": 13,
   "id": "3d4350b4",
   "metadata": {},
   "outputs": [
    {
     "name": "stdout",
     "output_type": "stream",
     "text": [
      "Memory used: 64.99 Mb\n"
     ]
    }
   ],
   "source": [
    "print('Memory used:', memory_usage(grid_pred), 'Mb')"
   ]
  },
  {
   "cell_type": "code",
   "execution_count": 14,
   "id": "bcc60b97",
   "metadata": {},
   "outputs": [],
   "source": [
    "grid_pred.to_csv(create_path(r\"modelo\\df_results\\grid_prediction_df.csv\"), index=False)"
   ]
  },
  {
   "cell_type": "code",
   "execution_count": null,
   "id": "42ca931a",
   "metadata": {},
   "outputs": [],
   "source": []
  }
 ],
 "metadata": {
  "kernelspec": {
   "display_name": "Python 3 (ipykernel)",
   "language": "python",
   "name": "python3"
  },
  "language_info": {
   "codemirror_mode": {
    "name": "ipython",
    "version": 3
   },
   "file_extension": ".py",
   "mimetype": "text/x-python",
   "name": "python",
   "nbconvert_exporter": "python",
   "pygments_lexer": "ipython3",
   "version": "3.8.10"
  }
 },
 "nbformat": 4,
 "nbformat_minor": 5
}
